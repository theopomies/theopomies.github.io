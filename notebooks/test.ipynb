{
 "cells": [
  {
   "cell_type": "code",
   "execution_count": 3,
   "id": "ab237657",
   "metadata": {},
   "outputs": [],
   "source": [
    "import torch\n",
    "import torch.nn as nn"
   ]
  },
  {
   "cell_type": "code",
   "execution_count": 24,
   "id": "dec3b229",
   "metadata": {},
   "outputs": [],
   "source": [
    "def is_leaf(module: nn.Module):\n",
    "    return len(list(module.modules())) == 1\n"
   ]
  },
  {
   "cell_type": "code",
   "execution_count": null,
   "id": "f5f21649",
   "metadata": {},
   "outputs": [],
   "source": [
    "model = nn.Sequential(\n",
    "    nn.Sequential(nn.Linear(10, 10), nn.Linear(10, 10)), nn.Linear(10, 10)\n",
    ")"
   ]
  },
  {
   "cell_type": "code",
   "execution_count": 25,
   "id": "7a930d89",
   "metadata": {},
   "outputs": [
    {
     "name": "stdout",
     "output_type": "stream",
     "text": [
      "Sequential(\n",
      "  (0): Sequential(\n",
      "    (0): Linear(in_features=10, out_features=10, bias=True)\n",
      "    (1): Linear(in_features=10, out_features=10, bias=True)\n",
      "  )\n",
      "  (1): Linear(in_features=10, out_features=10, bias=True)\n",
      ") False\n",
      "Sequential(\n",
      "  (0): Linear(in_features=10, out_features=10, bias=True)\n",
      "  (1): Linear(in_features=10, out_features=10, bias=True)\n",
      ") False\n",
      "Linear(in_features=10, out_features=10, bias=True) True\n",
      "Linear(in_features=10, out_features=10, bias=True) True\n",
      "Linear(in_features=10, out_features=10, bias=True) True\n"
     ]
    }
   ],
   "source": [
    "for module in model.modules():\n",
    "    print(module, is_leaf(module))"
   ]
  },
  {
   "cell_type": "code",
   "execution_count": 23,
   "id": "dfd1301a",
   "metadata": {},
   "outputs": [
    {
     "data": {
      "text/plain": [
       "[Linear(in_features=10, out_features=10, bias=True)]"
      ]
     },
     "execution_count": 23,
     "metadata": {},
     "output_type": "execute_result"
    }
   ],
   "source": [
    "[*[*nn.Linear(10, 10).modules()][0].modules()]"
   ]
  },
  {
   "cell_type": "code",
   "execution_count": null,
   "id": "a1622562",
   "metadata": {},
   "outputs": [],
   "source": []
  }
 ],
 "metadata": {
  "kernelspec": {
   "display_name": ".venv",
   "language": "python",
   "name": "python3"
  },
  "language_info": {
   "codemirror_mode": {
    "name": "ipython",
    "version": 3
   },
   "file_extension": ".py",
   "mimetype": "text/x-python",
   "name": "python",
   "nbconvert_exporter": "python",
   "pygments_lexer": "ipython3",
   "version": "3.12.9"
  }
 },
 "nbformat": 4,
 "nbformat_minor": 5
}
