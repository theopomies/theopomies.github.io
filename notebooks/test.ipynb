{
 "cells": [
  {
   "cell_type": "code",
   "execution_count": 2,
   "id": "ab237657",
   "metadata": {},
   "outputs": [],
   "source": [
    "import torch"
   ]
  },
  {
   "cell_type": "code",
   "execution_count": null,
   "id": "f5f21649",
   "metadata": {},
   "outputs": [
    {
     "data": {
      "text/plain": [
       "tensor([[ 5.8674, -1.1864, -1.6661,  6.2188,  4.6361,  0.7678, -1.6513, -3.1540,\n",
       "         -0.1099, -3.6918],\n",
       "        [ 5.8674, -1.1864, -1.6661,  6.2188,  4.6361,  0.7678, -1.6513, -3.1540,\n",
       "         -0.1099, -3.6918],\n",
       "        [ 5.8674, -1.1864, -1.6661,  6.2188,  4.6361,  0.7678, -1.6513, -3.1540,\n",
       "         -0.1099, -3.6918],\n",
       "        [ 5.8674, -1.1864, -1.6661,  6.2188,  4.6361,  0.7678, -1.6513, -3.1540,\n",
       "         -0.1099, -3.6918],\n",
       "        [ 5.8674, -1.1864, -1.6661,  6.2188,  4.6361,  0.7678, -1.6513, -3.1540,\n",
       "         -0.1099, -3.6918],\n",
       "        [ 5.8674, -1.1864, -1.6661,  6.2188,  4.6361,  0.7678, -1.6513, -3.1540,\n",
       "         -0.1099, -3.6918],\n",
       "        [ 5.8674, -1.1864, -1.6661,  6.2188,  4.6361,  0.7678, -1.6513, -3.1540,\n",
       "         -0.1099, -3.6918],\n",
       "        [ 5.8674, -1.1864, -1.6661,  6.2188,  4.6361,  0.7678, -1.6513, -3.1540,\n",
       "         -0.1099, -3.6918],\n",
       "        [ 5.8674, -1.1864, -1.6661,  6.2188,  4.6361,  0.7678, -1.6513, -3.1540,\n",
       "         -0.1099, -3.6918],\n",
       "        [ 5.8674, -1.1864, -1.6661,  6.2188,  4.6361,  0.7678, -1.6513, -3.1540,\n",
       "         -0.1099, -3.6918]])"
      ]
     },
     "execution_count": 64,
     "metadata": {},
     "output_type": "execute_result"
    }
   ],
   "source": [
    "x = torch.nn.Linear(10, 10)\n",
    "\n",
    "\n",
    "def set_none(module, grad_input, grad_output):\n",
    "    return (torch.zeros_like(grad_output[0]),)\n",
    "\n",
    "\n",
    "x.register_full_backward_hook(set_none)\n",
    "\n",
    "inp = torch.randn(10, 10, requires_grad=True)\n",
    "res = x(inp)\n",
    "res.sum().backward()\n",
    "\n",
    "x.weight.grad"
   ]
  },
  {
   "cell_type": "code",
   "execution_count": null,
   "id": "7a930d89",
   "metadata": {},
   "outputs": [],
   "source": []
  }
 ],
 "metadata": {
  "kernelspec": {
   "display_name": ".venv",
   "language": "python",
   "name": "python3"
  },
  "language_info": {
   "codemirror_mode": {
    "name": "ipython",
    "version": 3
   },
   "file_extension": ".py",
   "mimetype": "text/x-python",
   "name": "python",
   "nbconvert_exporter": "python",
   "pygments_lexer": "ipython3",
   "version": "3.12.9"
  }
 },
 "nbformat": 4,
 "nbformat_minor": 5
}
