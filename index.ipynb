{
 "cells": [
  {
   "cell_type": "markdown",
   "id": "692dd9ed",
   "metadata": {},
   "source": [
    "---\n",
    "title: Hello World\n",
    "abstract: This a supposedly a blog\n",
    "---"
   ]
  },
  {
   "cell_type": "code",
   "execution_count": 7,
   "id": "dbd0b675",
   "metadata": {},
   "outputs": [
    {
     "name": "stdout",
     "output_type": "stream",
     "text": [
      "Hello, world1!\n"
     ]
    }
   ],
   "source": [
    "# | echo: false\n",
    "import time\n",
    "\n",
    "time.sleep(6)\n",
    "print(\"Hello, world1!\")"
   ]
  },
  {
   "cell_type": "code",
   "execution_count": null,
   "id": "e1f29bca",
   "metadata": {},
   "outputs": [
    {
     "name": "stdout",
     "output_type": "stream",
     "text": [
      "Hello YOU!\n"
     ]
    }
   ],
   "source": [
    "print(\"Hello YO2!\")"
   ]
  },
  {
   "cell_type": "code",
   "execution_count": null,
   "id": "02d6215e",
   "metadata": {},
   "outputs": [],
   "source": []
  }
 ],
 "metadata": {
  "kernelspec": {
   "display_name": "Python 3",
   "language": "python",
   "name": "python3"
  },
  "language_info": {
   "codemirror_mode": {
    "name": "ipython",
    "version": 3
   },
   "file_extension": ".py",
   "mimetype": "text/x-python",
   "name": "python",
   "nbconvert_exporter": "python",
   "pygments_lexer": "ipython3",
   "version": "3.12.9"
  }
 },
 "nbformat": 4,
 "nbformat_minor": 5
}
