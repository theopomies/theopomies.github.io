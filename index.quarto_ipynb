{
  "cells": [
    {
      "cell_type": "markdown",
      "metadata": {},
      "source": [
        "---\n",
        "title: Theo POMIES \n",
        "toc: false\n",
        "---\n",
        "\n",
        "I’m Théo, a graduate of EPITECH and currently CTO of a tech startup, [Kivala](https://www.kivala.fr){target=\"_blank\"}. My background is in AI, large language models, backend development, and data engineering. Over the past years, I’ve worked on building robust backends with Python and FastAPI, designing automation pipelines, and deploying AI systems ranging from custom LLMs to retrieval-augmented generation (RAG) architectures.\n",
        "\n",
        "My technical work usually revolves around:\n",
        "\n",
        "* **Backend & automation** — building scalable backends, integrating data pipelines, and streamlining workflows with Python.\n",
        "* **AI agents & RAG systems** — designing conversational agents, retrieval pipelines, and prompt engineering strategies for LLMs.\n",
        "* **Fine-tuning & custom models** — adapting open-source models like LLaMA or Mistral to specific domains, with attention to data quality and deployment.\n",
        "\n",
        "\n",
        "## Transition to MLE & Applied Research\n",
        "\n",
        "I’m now in the process of transitioning towards **machine learning engineering and applied research**. This blog is where I’ll share my journey — notes from my learning process, experiments, and articles about the concepts and techniques I find valuable along the way.\n",
        "\n",
        "It’s part notebook, part knowledge base, and part exploration. My goal is to document both the practice of building systems and the research side of AI that makes them possible.\n"
      ],
      "id": "17770d39"
    },
    {
      "cell_type": "code",
      "metadata": {},
      "source": [
        "print(\"Hello, World!\")  # Stdout = cyan\n",
        "\"Hello, World!\"  # Output display = primary"
      ],
      "id": "df6a59b1",
      "execution_count": null,
      "outputs": []
    }
  ],
  "metadata": {
    "kernelspec": {
      "name": "python3",
      "language": "python",
      "display_name": "Python 3 (ipykernel)",
      "path": "/Users/theopomies/Developer/perso/theopomies.ml/.venv/share/jupyter/kernels/python3"
    }
  },
  "nbformat": 4,
  "nbformat_minor": 5
}