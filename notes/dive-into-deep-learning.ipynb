{
 "cells": [
  {
   "cell_type": "markdown",
   "id": "0a928661",
   "metadata": {},
   "source": [
    "---\n",
    "title: Dive Into Deep Learning \n",
    "author: Theo POMIES\n",
    "date: 2025-08-29\n",
    "date-modified: 2025-08-29\n",
    "description: Notes and nuggets from the d2l course/book\n",
    "categories: [math, ml, python]\n",
    "---"
   ]
  }
 ],
 "metadata": {
  "language_info": {
   "name": "python"
  }
 },
 "nbformat": 4,
 "nbformat_minor": 5
}
