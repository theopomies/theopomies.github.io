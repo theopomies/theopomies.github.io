{
 "cells": [
  {
   "cell_type": "code",
   "execution_count": 12,
   "id": "72c0b92c",
   "metadata": {},
   "outputs": [],
   "source": [
    "import torch\n",
    "import torch.nn as nn"
   ]
  },
  {
   "cell_type": "code",
   "execution_count": 4,
   "id": "4874a294",
   "metadata": {},
   "outputs": [
    {
     "data": {
      "text/plain": [
       "(tensor([[0, 1, 2, 3, 4],\n",
       "         [5, 6, 7, 8, 9]]),\n",
       " tensor([[0, 1, 2, 3, 4],\n",
       "         [5, 6, 7, 8, 9]]))"
      ]
     },
     "execution_count": 4,
     "metadata": {},
     "output_type": "execute_result"
    }
   ],
   "source": [
    "a = torch.arange(10).reshape(2, 5)\n",
    "a.data, a"
   ]
  },
  {
   "cell_type": "code",
   "execution_count": 9,
   "id": "8f446c51",
   "metadata": {},
   "outputs": [
    {
     "data": {
      "text/plain": [
       "(tensor([[0, 1],\n",
       "         [5, 6]]),\n",
       " tensor([[2, 3],\n",
       "         [7, 8]]),\n",
       " tensor([[4],\n",
       "         [9]]))"
      ]
     },
     "execution_count": 9,
     "metadata": {},
     "output_type": "execute_result"
    }
   ],
   "source": [
    "a.data.chunk(3, dim=1)"
   ]
  },
  {
   "cell_type": "code",
   "execution_count": 11,
   "id": "6dd6f1ad",
   "metadata": {},
   "outputs": [
    {
     "data": {
      "text/plain": [
       "tensor([[0, 1, 2, 3, 4],\n",
       "        [5, 6, 7, 8, 9]])"
      ]
     },
     "execution_count": 11,
     "metadata": {},
     "output_type": "execute_result"
    }
   ],
   "source": [
    "a.data.contiguous()"
   ]
  },
  {
   "cell_type": "code",
   "execution_count": 13,
   "id": "6d5b5bb6",
   "metadata": {},
   "outputs": [],
   "source": [
    "class Example(nn.Module):\n",
    "    def __init__(self):\n",
    "        super().__init__()\n",
    "        self.conv1 = nn.Conv2d(1, 1, 3, padding=1)\n",
    "        self.conv2 = nn.Conv2d(1, 1, 3, padding=1)\n",
    "\n",
    "    def forward(self, x):\n",
    "        x = self.conv1(x)\n",
    "        x = self.conv2(x)\n",
    "        return x\n"
   ]
  },
  {
   "cell_type": "code",
   "execution_count": 14,
   "id": "74488751",
   "metadata": {},
   "outputs": [],
   "source": [
    "ex = Example()"
   ]
  },
  {
   "cell_type": "code",
   "execution_count": 18,
   "id": "15802de4",
   "metadata": {},
   "outputs": [
    {
     "name": "stdout",
     "output_type": "stream",
     "text": [
      "(tensor([[[[-0.2680, -0.2500, -0.0980],\n",
      "          [-0.2188, -0.0952,  0.1542],\n",
      "          [-0.0848, -0.1648, -0.1779]]]], grad_fn=<SplitBackward0>),)\n",
      "(tensor([-0.2914], grad_fn=<SplitBackward0>),)\n",
      "(tensor([[[[ 0.1275, -0.0959, -0.1361],\n",
      "          [-0.2135,  0.2629, -0.0307],\n",
      "          [-0.0931,  0.2659,  0.0682]]]], grad_fn=<SplitBackward0>),)\n",
      "(tensor([0.0173], grad_fn=<SplitBackward0>),)\n"
     ]
    }
   ],
   "source": [
    "for param in ex.parameters():\n",
    "    print(param.chunk(2))\n"
   ]
  },
  {
   "cell_type": "code",
   "execution_count": null,
   "id": "9b23952b",
   "metadata": {},
   "outputs": [],
   "source": []
  }
 ],
 "metadata": {
  "kernelspec": {
   "display_name": ".venv",
   "language": "python",
   "name": "python3"
  },
  "language_info": {
   "codemirror_mode": {
    "name": "ipython",
    "version": 3
   },
   "file_extension": ".py",
   "mimetype": "text/x-python",
   "name": "python",
   "nbconvert_exporter": "python",
   "pygments_lexer": "ipython3",
   "version": "3.12.9"
  }
 },
 "nbformat": 4,
 "nbformat_minor": 5
}
